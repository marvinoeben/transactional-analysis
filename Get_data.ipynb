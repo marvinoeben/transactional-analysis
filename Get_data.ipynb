{
 "cells": [
  {
   "cell_type": "markdown",
   "metadata": {},
   "source": [
    "# Download, parse and cleanse the data\n",
    "In this notebook, we download, check, parse and cleanse the dataset.  \n",
    "Also, we translate several values and column names to their English counterparts."
   ]
  },
  {
   "cell_type": "markdown",
   "metadata": {},
   "source": [
    "#### Data checking variable.\n",
    "As we want to quickly check whether our manipulations provide the desired result we add a checking variable. This will allow us to print tests to the screen"
   ]
  },
  {
   "cell_type": "code",
   "execution_count": 1,
   "metadata": {
    "collapsed": true
   },
   "outputs": [],
   "source": [
    "check = True"
   ]
  },
  {
   "cell_type": "markdown",
   "metadata": {},
   "source": [
    "#### Download the data"
   ]
  },
  {
   "cell_type": "code",
   "execution_count": 2,
   "metadata": {
    "collapsed": false
   },
   "outputs": [],
   "source": [
    "import urllib\n",
    "import os\n",
    "import pandas as pd\n",
    "import numpy as np\n",
    "\n",
    "if not os.path.exists(\"Downloads\"):\n",
    "    os.makedirs(\"Downloads\")\n",
    "if not os.path.isfile(\"Downloads/data_berka.zip\"):    \n",
    "    zipfiles = urllib.URLopener()\n",
    "    zipfiles.retrieve(\"http://lisp.vse.cz/pkdd99/DATA/data_berka.zip\", \"Downloads/data_berka.zip\")\n",
    "if not os.path.isfile(\"Downloads/berka.htm\"):    \n",
    "    challenge_file = urllib.URLopener()\n",
    "    challenge_file.retrieve(\"http://lisp.vse.cz/pkdd99/Challenge/berka.htm\", \"Downloads/berka.htm\")"
   ]
  },
  {
   "cell_type": "markdown",
   "metadata": {},
   "source": [
    "#### Extract the zipfile"
   ]
  },
  {
   "cell_type": "code",
   "execution_count": 3,
   "metadata": {
    "collapsed": false
   },
   "outputs": [],
   "source": [
    "import zipfile\n",
    "\n",
    "if not os.path.exists('Downloads/data_berka'):\n",
    "    os.makedirs('Downloads/data_berka')\n",
    "    \n",
    "zip_ref = zipfile.ZipFile('Downloads/data_berka.zip', 'r')\n",
    "zip_ref.extractall('Downloads/data_berka')\n",
    "zip_ref.close()"
   ]
  },
  {
   "cell_type": "markdown",
   "metadata": {},
   "source": [
    "#### Print the first two lines for every file\n",
    "Inspect filetype, seperator, quote and column types. Print it for the first and last two lines in the file."
   ]
  },
  {
   "cell_type": "code",
   "execution_count": 4,
   "metadata": {
    "collapsed": false
   },
   "outputs": [
    {
     "name": "stdout",
     "output_type": "stream",
     "text": [
      "account.asc\n",
      "\t'\"account_id\";\"district_id\";\"frequency\";\"date\"\\r\\n'\n",
      "\t'576;55;\"POPLATEK MESICNE\";930101\\r\\n'\n",
      "\t ...\n",
      "\t'1573;63;\"POPLATEK MESICNE\";971229\\r\\n'\n",
      "\t'3276;1;\"POPLATEK MESICNE\";971229\\r\\n'\n",
      "card.asc\n",
      "\t'\"card_id\";\"disp_id\";\"type\";\"issued\"\\r\\n'\n",
      "\t'1005;9285;\"classic\";931107 00:00:00\\r\\n'\n",
      "\t ...\n",
      "\t'685;4467;\"classic\";981229 00:00:00\\r\\n'\n",
      "\t'635;4083;\"classic\";981229 00:00:00\\r\\n'\n",
      "client.asc\n",
      "\t'\"client_id\";\"birth_number\";\"district_id\"\\r\\n'\n",
      "\t'1;\"706213\";18\\r\\n'\n",
      "\t ...\n",
      "\t'13971;\"626019\";67\\r\\n'\n",
      "\t'13998;\"535812\";74\\r\\n'\n",
      "disp.asc\n",
      "\t'\"disp_id\";\"client_id\";\"account_id\";\"type\"\\r\\n'\n",
      "\t'1;1;1;\"OWNER\"\\r\\n'\n",
      "\t ...\n",
      "\t'13663;13971;11362;\"OWNER\"\\r\\n'\n",
      "\t'13690;13998;11382;\"OWNER\"\\r\\n'\n",
      "district.asc\n",
      "\t'A1;A2;A3;A4;A5;A6;A7;A8;A9;A10;A11;A12;A13;A14;A15;A16\\r\\n'\n",
      "\t'1;\"Hl.m. Praha\";\"Prague\";1204953;0;0;0;1;1;100.0;12541;0.29;0.43;167;85677;99107\\r\\n'\n",
      "\t ...\n",
      "\t'76;\"Sumperk\";\"north Moravia\";127369;31;32;13;2;7;51.2;8369;4.73;5.88;107;3736;2807\\r\\n'\n",
      "\t'77;\"Vsetin\";\"north Moravia\";148545;8;35;12;3;4;53.5;8909;4.01;5.56;113;3460;3590\\r\\n'\n",
      "loan.asc\n",
      "\t'\"loan_id\";\"account_id\";\"date\";\"amount\";\"duration\";\"payments\";\"status\"\\r\\n'\n",
      "\t'5314;1787;930705;96396;12;8033.00;\"B\"\\r\\n'\n",
      "\t ...\n",
      "\t'5346;1928;981206;55632;24;2318.00;\"C\"\\r\\n'\n",
      "\t'6748;8645;981208;240900;60;4015.00;\"C\"\\r\\n'\n",
      "order.asc\n",
      "\t'\"order_id\";\"account_id\";\"bank_to\";\"account_to\";\"amount\";\"k_symbol\"\\r\\n'\n",
      "\t'29401;1;\"YZ\";\"87144583\";2452.00;\"SIPO\"\\r\\n'\n",
      "\t ...\n",
      "\t'46337;11362;\"KL\";\"20009470\";129.00;\" \"\\r\\n'\n",
      "\t'46338;11362;\"MN\";\"61540514\";5392.00;\"UVER\"\\r\\n'\n",
      "trans.asc\n",
      "\t'\"trans_id\";\"account_id\";\"date\";\"type\";\"operation\";\"amount\";\"balance\";\"k_symbol\";\"bank\";\"account\"\\r\\n'\n",
      "\t'695247;2378;930101;\"PRIJEM\";\"VKLAD\";700.00;700.00;\"\";;\\r\\n'\n",
      "\t ...\n",
      "\t'3626683;2907;981231;\"PRIJEM\";\"\";107.50;23453.00;\"UROK\";;\\r\\n'\n",
      "\t'3626540;2902;981231;\"PRIJEM\";\"\";164.10;41642.90;\"UROK\";;\\r\\n'\n"
     ]
    }
   ],
   "source": [
    "files = os.listdir('Downloads/data_berka')\n",
    "if check:\n",
    "    for fl in files:\n",
    "        with open('Downloads/data_berka/' + fl) as myfile:\n",
    "            print fl\n",
    "            lines = myfile.readlines()\n",
    "            print '\\t' + repr(lines[0])\n",
    "            print '\\t' + repr(lines[1])\n",
    "            print '\\t ...'\n",
    "            print '\\t' + repr(lines[-2])\n",
    "            print '\\t' + repr(lines[-1])"
   ]
  },
  {
   "cell_type": "markdown",
   "metadata": {},
   "source": [
    "#### Load into pandas data.frames:\n",
    "Pandas dataframes will be imported into a dictionary such that we can perform actions on all of them and quickly scan whether the import was succesfull."
   ]
  },
  {
   "cell_type": "code",
   "execution_count": 5,
   "metadata": {
    "collapsed": false
   },
   "outputs": [
    {
     "name": "stdout",
     "output_type": "stream",
     "text": [
      "account\n",
      "Shape: (4500, 4)\n",
      "First_row:\n",
      "account_id                  576\n",
      "district_id                  55\n",
      "frequency      POPLATEK MESICNE\n",
      "date                     930101\n",
      "Name: 0, dtype: object\n",
      "\n",
      "\n",
      "card\n",
      "Shape: (892, 4)\n",
      "First_row:\n",
      "card_id               1005\n",
      "disp_id               9285\n",
      "type               classic\n",
      "issued     931107 00:00:00\n",
      "Name: 0, dtype: object\n",
      "\n",
      "\n",
      "client\n",
      "Shape: (5369, 3)\n",
      "First_row:\n",
      "client_id            1\n",
      "birth_number    706213\n",
      "district_id         18\n",
      "Name: 0, dtype: int64\n",
      "\n",
      "\n",
      "disp\n",
      "Shape: (5369, 4)\n",
      "First_row:\n",
      "disp_id           1\n",
      "client_id         1\n",
      "account_id        1\n",
      "type          OWNER\n",
      "Name: 0, dtype: object\n",
      "\n",
      "\n",
      "district\n",
      "Shape: (77, 16)\n",
      "First_row:\n",
      "A1               1\n",
      "A2     Hl.m. Praha\n",
      "A3          Prague\n",
      "A4         1204953\n",
      "A5               0\n",
      "A6               0\n",
      "A7               0\n",
      "A8               1\n",
      "A9               1\n",
      "A10            100\n",
      "A11          12541\n",
      "A12           0.29\n",
      "A13           0.43\n",
      "A14            167\n",
      "A15          85677\n",
      "A16          99107\n",
      "Name: 0, dtype: object\n",
      "\n",
      "\n",
      "loan\n",
      "Shape: (682, 7)\n",
      "First_row:\n",
      "loan_id         5314\n",
      "account_id      1787\n",
      "date          930705\n",
      "amount         96396\n",
      "duration          12\n",
      "payments        8033\n",
      "status             B\n",
      "Name: 0, dtype: object\n",
      "\n",
      "\n",
      "order\n",
      "Shape: (6471, 6)\n",
      "First_row:\n",
      "order_id         29401\n",
      "account_id           1\n",
      "bank_to             YZ\n",
      "account_to    87144583\n",
      "amount            2452\n",
      "k_symbol          SIPO\n",
      "Name: 0, dtype: object\n",
      "\n",
      "\n",
      "trans\n",
      "Shape: (1056320, 10)\n",
      "First_row:\n",
      "trans_id      695247\n",
      "account_id      2378\n",
      "date          930101\n",
      "type          PRIJEM\n",
      "operation      VKLAD\n",
      "amount           700\n",
      "balance          700\n",
      "k_symbol         NaN\n",
      "bank             NaN\n",
      "account          NaN\n",
      "Name: 0, dtype: object\n",
      "\n",
      "\n"
     ]
    },
    {
     "name": "stderr",
     "output_type": "stream",
     "text": [
      "/Users/moeben001/anaconda2/lib/python2.7/site-packages/IPython/core/interactiveshell.py:2717: DtypeWarning: Columns (8) have mixed types. Specify dtype option on import or set low_memory=False.\n",
      "  interactivity=interactivity, compiler=compiler, result=result)\n"
     ]
    }
   ],
   "source": [
    "data_dict = {}\n",
    "keys = [fl.split('.')[0] for fl in files]\n",
    "\n",
    "for fl, key in zip(files,keys):\n",
    "    if key==\"trans\":\n",
    "        data_dict[key] = pd.read_csv('Downloads/data_berka/' + fl, sep = ';', \n",
    "                                     quotechar = '\\\"',\n",
    "                                     dtype = {'account':np.float64})\n",
    "    else:\n",
    "        data_dict[key] = pd.read_csv('Downloads/data_berka/' + fl, sep = ';', quotechar = '\\\"')\n",
    "\n",
    "if check:\n",
    "    for key in keys:\n",
    "        print key\n",
    "        print 'Shape: ' + str(data_dict[key].shape)\n",
    "        print 'First_row:' \n",
    "        print data_dict[key].iloc[0]\n",
    "        print '\\n'"
   ]
  },
  {
   "cell_type": "markdown",
   "metadata": {},
   "source": [
    "#### District headers are not directly usefull.\n",
    "Print the explanation file."
   ]
  },
  {
   "cell_type": "code",
   "execution_count": 7,
   "metadata": {
    "collapsed": false
   },
   "outputs": [],
   "source": [
    "if check:\n",
    "    from IPython.core.display import HTML\n",
    "    html_file = open('Downloads/berka.htm').read()\n",
    "    HTML(html_file)"
   ]
  },
  {
   "cell_type": "markdown",
   "metadata": {},
   "source": [
    "Provide a mapping for the district headers (from the explanation file). We do this manually (Scraping is a waste of time)."
   ]
  },
  {
   "cell_type": "code",
   "execution_count": 7,
   "metadata": {
    "collapsed": false
   },
   "outputs": [],
   "source": [
    "new_headers = ['district_id', 'district_name', 'region', \n",
    "               'inhabitants', 'municipalties_499_less', \n",
    "               'municipalties_500_1999', 'municipalties_2000_9999', \n",
    "               'municipalties_10000_more', 'cities','urban_ratio',\n",
    "               'avg_salary', 'unemployment_rate_1995', \n",
    "               'unemployment_rate_1996', 'entrepeneurs_per_1000', \n",
    "               'committed_crimes_1995','comitted_crimes_1996']\n",
    "data_dict['district'].columns = new_headers\n",
    "if check:\n",
    "    data_dict['district'].describe()"
   ]
  },
  {
   "cell_type": "markdown",
   "metadata": {},
   "source": [
    "#### Data cleansing (according to description)\n",
    "Quickly setting all values to those we are used to work with."
   ]
  },
  {
   "cell_type": "code",
   "execution_count": 8,
   "metadata": {
    "collapsed": false
   },
   "outputs": [
    {
     "name": "stdout",
     "output_type": "stream",
     "text": [
      "count                    4500\n",
      "unique                   1535\n",
      "top       1993-02-08 00:00:00\n",
      "freq                       13\n",
      "first     1993-01-01 00:00:00\n",
      "last      1997-12-29 00:00:00\n",
      "Name: date, dtype: object\n",
      "count                     892\n",
      "unique                    607\n",
      "top       1998-09-29 00:00:00\n",
      "freq                        7\n",
      "first     1993-11-07 00:00:00\n",
      "last      1998-12-29 00:00:00\n",
      "Name: issued, dtype: object\n",
      "count                 1056320\n",
      "unique                   2191\n",
      "top       1998-06-30 00:00:00\n",
      "freq                     9269\n",
      "first     1993-01-01 00:00:00\n",
      "last      1998-12-31 00:00:00\n",
      "Name: date, dtype: object\n",
      "count                     682\n",
      "unique                    559\n",
      "top       1998-07-12 00:00:00\n",
      "freq                        4\n",
      "first     1993-07-05 00:00:00\n",
      "last      1998-12-08 00:00:00\n",
      "Name: date, dtype: object\n",
      "count                    5369\n",
      "unique                   4738\n",
      "top       1952-08-26 00:00:00\n",
      "freq                        4\n",
      "first     1911-08-20 00:00:00\n",
      "last      1987-09-27 00:00:00\n",
      "Name: birth_number, dtype: object\n"
     ]
    }
   ],
   "source": [
    "# Set dates to a date format\n",
    "data_dict['account']['date'] = pd.to_datetime(data_dict['account']['date'], format='%y%m%d')\n",
    "data_dict['card']['issued'] = pd.to_datetime(data_dict['card']['issued'], \n",
    "                                             format='%y%m%d %H:%M:%S')\n",
    "data_dict['trans']['date'] = pd.to_datetime(data_dict['trans']['date'], format='%y%m%d')\n",
    "data_dict['loan']['date'] = pd.to_datetime(data_dict['loan']['date'], format='%y%m%d')\n",
    "\n",
    "# Client needs modification (seperate the sexes and adjust the dates)\n",
    "data_dict['client']['sex'] = \"M\"\n",
    "tmp = (data_dict['client']['birth_number']/100).round().astype(int)\n",
    "tmp = tmp % 100 > 50\n",
    "data_dict['client'].loc[tmp, \"sex\"] = \"F\"\n",
    "data_dict['client'].loc[tmp, \"birth_number\"] = data_dict['client'].loc[tmp, \"birth_number\"] - 5000\n",
    "\n",
    "# Assumption: Everyone borne in the 1900's, (min birth_number -> 110820, max -> 870927)\n",
    "# 113 is rather old.\n",
    "data_dict['client']['birth_number'] = data_dict['client']['birth_number'] + 19000000\n",
    "data_dict['client']['birth_number'] = pd.to_datetime(data_dict['client']['birth_number'], \n",
    "                                                format='%Y%m%d')\n",
    "\n",
    "if check:\n",
    "    print data_dict['account']['date'].describe()\n",
    "    print data_dict['card']['issued'].describe()\n",
    "    print data_dict['trans']['date'].describe()\n",
    "    print data_dict['loan']['date'].describe()\n",
    "    print data_dict['client']['birth_number'].describe()"
   ]
  },
  {
   "cell_type": "markdown",
   "metadata": {},
   "source": [
    "#### Change data to its English equivalent\n",
    "As this is a Czech bank, we have to change the wording to Enlgish to make it workable for us."
   ]
  },
  {
   "cell_type": "code",
   "execution_count": 9,
   "metadata": {
    "collapsed": false
   },
   "outputs": [],
   "source": [
    "# For the account data:\n",
    "df = data_dict['account']\n",
    "df.loc[df.frequency == 'POPLATEK MESICNE', 'frequency'] = 'monthly'\n",
    "df.loc[df.frequency == 'POPLATEK TYDNE', 'frequency'] = 'weekly'\n",
    "df.loc[df.frequency == 'POPLATEK PO OBRATU', 'frequency'] = 'after_transaction'\n",
    "\n",
    "data_dict['account'] = df\n",
    "\n",
    "# For the order data:\n",
    "df = data_dict['order']\n",
    "df.loc[df.k_symbol == 'POJISTNE', 'k_symbol'] = 'insurance'\n",
    "df.loc[df.k_symbol == 'SIPO', 'k_symbol'] = 'household'\n",
    "df.loc[df.k_symbol == 'LEASING', 'k_symbol'] = 'leasing'\n",
    "df.loc[df.k_symbol == 'UVER', 'k_symbol'] = 'loan'\n",
    "\n",
    "data_dict['order'] = df\n",
    "\n",
    "# For the transaction data:\n",
    "df = data_dict['trans']\n",
    "df.loc[df.type == 'PRIJEM', 'type'] = 'credit'\n",
    "df.loc[df.type == 'VYDAJ', 'type'] = 'withdrawal'\n",
    "df.loc[df.operation == 'VYBER KARTOU', 'operation'] = 'cc_withdrawal'\n",
    "df.loc[df.operation == 'VKLAD', 'operation'] = 'cash_credit'\n",
    "df.loc[df.operation == 'PREVOD Z UCTU', 'operation'] = 'inc_bank'\n",
    "df.loc[df.operation == 'VYBER', 'operation'] = 'cash_withdrawl'\n",
    "df.loc[df.operation == 'PREVOD NA UCET', 'operation'] = 'outg_bank'\n",
    "df.loc[df.k_symbol == 'POJISTNE', 'k_symbol'] = 'insurance'\n",
    "df.loc[df.k_symbol == 'SLUZBY', 'k_symbol'] = 'payment_statement'\n",
    "df.loc[df.k_symbol == 'UROK', 'k_symbol'] = 'interest_credited'\n",
    "df.loc[df.k_symbol == 'SANKC. UROK', 'k_symbol'] = 'interest_sactioned'\n",
    "df.loc[df.k_symbol == 'SIPO', 'k_symbol'] = 'household'\n",
    "df.loc[df.k_symbol == 'DUCHOD', 'k_symbol'] = 'pension'\n",
    "df.loc[df.k_symbol == 'UVER', 'k_symbol'] = 'loan'\n",
    "data_dict['trans'] = df\n",
    "\n",
    "# For the loan data:\n",
    "df = data_dict['loan']\n",
    "df.loc[df.status == 'A', 'status'] = 'fin_no_problem'\n",
    "df.loc[df.status == 'B', 'status'] = 'fin_unpaid'\n",
    "df.loc[df.status == 'C', 'status'] = 'run_no_problem'\n",
    "df.loc[df.status == 'D', 'status'] = 'run_but_debt'\n",
    "data_dict['loan'] = df"
   ]
  },
  {
   "cell_type": "markdown",
   "metadata": {},
   "source": [
    "#### Merge data into three data.frames, client info, demographic info and transactions:\n",
    "We can now start to merge the data in to less dataframes. All merges are left-joins such that none of the information in the left data frames is lost."
   ]
  },
  {
   "cell_type": "code",
   "execution_count": 10,
   "metadata": {
    "collapsed": false
   },
   "outputs": [],
   "source": [
    "# Add disposition\n",
    "client_info = pd.merge(left = data_dict['client'], \n",
    "                       right = data_dict['disp'], \n",
    "                       how ='left', \n",
    "                       on = 'client_id')\n",
    "# Add account info\n",
    "client_info = pd.merge(left = client_info, \n",
    "                       right = data_dict['account'], \n",
    "                       how ='left', \n",
    "                       on = 'account_id',\n",
    "                       suffixes=('_client', '_branch'))\n",
    "\n",
    "# Add Loans\n",
    "client_info = pd.merge(left = client_info, \n",
    "                       right = data_dict['loan'], \n",
    "                       how ='left', \n",
    "                       on = 'account_id',\n",
    "                       suffixes=('_client', '_loan'))\n",
    "# Add credit cards\n",
    "client_info = pd.merge(left = client_info, \n",
    "                       right = data_dict['card'], \n",
    "                       how ='left', \n",
    "                       on = 'disp_id',\n",
    "                       suffixes=('_client', '_card'))"
   ]
  },
  {
   "cell_type": "markdown",
   "metadata": {},
   "source": [
    "#### Save data"
   ]
  },
  {
   "cell_type": "code",
   "execution_count": 11,
   "metadata": {
    "collapsed": false
   },
   "outputs": [],
   "source": [
    "if not os.path.exists(\"data\"):\n",
    "    os.makedirs(\"data\")\n",
    "    \n",
    "demographic_info = data_dict['district']\n",
    "transaction_info = data_dict['trans']\n",
    "order_info = data_dict['order']\n",
    "loan_info = data_dict['loan']\n",
    "\n",
    "client_info.to_csv('data/client_info.csv', index = False)\n",
    "demographic_info.to_csv('data/demographic_data.csv', index = False)\n",
    "transaction_info.to_csv('data/transction_info.csv', index = False)\n",
    "order_info.to_csv('data/order_info.csv', index = False)\n",
    "loan_info.to_csv('data/loan_info.csv', index = False)"
   ]
  },
  {
   "cell_type": "code",
   "execution_count": 12,
   "metadata": {
    "collapsed": false
   },
   "outputs": [],
   "source": [
    "client_info = pd.read_csv('data/client_info.csv')\n",
    "loan_info = pd.read_csv('data/loan_info.csv')"
   ]
  }
 ],
 "metadata": {
  "anaconda-cloud": {},
  "kernelspec": {
   "display_name": "Python [default]",
   "language": "python",
   "name": "python2"
  },
  "language_info": {
   "codemirror_mode": {
    "name": "ipython",
    "version": 2
   },
   "file_extension": ".py",
   "mimetype": "text/x-python",
   "name": "python",
   "nbconvert_exporter": "python",
   "pygments_lexer": "ipython2",
   "version": "2.7.12"
  }
 },
 "nbformat": 4,
 "nbformat_minor": 1
}
